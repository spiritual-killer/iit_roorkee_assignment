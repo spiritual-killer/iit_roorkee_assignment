{
 "cells": [
  {
   "cell_type": "markdown",
   "id": "528577d9-d940-45b2-a77f-4f0f7a07aadf",
   "metadata": {},
   "source": [
    "# PSD for rest"
   ]
  },
  {
   "cell_type": "code",
   "execution_count": 288,
   "id": "98899c8c-deea-4766-9bf5-008b4191bff4",
   "metadata": {},
   "outputs": [],
   "source": [
    "sampling_frequency= 512   # 31000/60 OR 910000/180"
   ]
  },
  {
   "cell_type": "code",
   "execution_count": 289,
   "id": "0166d0cf-9af3-44e0-8cf3-816d698c8f3c",
   "metadata": {},
   "outputs": [
    {
     "name": "stdout",
     "output_type": "stream",
     "text": [
      "PSD values with labels saved to /Users/ritwikghosh/Downloads/IIT Roorkee Project/eeg-during-mental-arithmetic-tasks-1.0.0/psd_values_with_labels_rest.csv\n"
     ]
    }
   ],
   "source": [
    "import pyedflib\n",
    "import numpy as np\n",
    "import pandas as pd\n",
    "import os\n",
    "from scipy.signal import welch\n",
    "\n",
    "# Path to the EDF files and the CSV file\n",
    "edf_folder_path = '/Users/ritwikghosh/Downloads/IIT Roorkee Project/eeg-during-mental-arithmetic-tasks-1.0.0/'\n",
    "csv_file_path = os.path.join(edf_folder_path, 'subject-info.csv')\n",
    "\n",
    "# Read the CSV file\n",
    "subject_info = pd.read_csv(csv_file_path)\n",
    "\n",
    "# Initialize the output DataFrame\n",
    "columns = ['Subject', 'Channel', 'Trial', 'Delta', 'Theta', 'Alpha', 'Beta', 'Gamma', 'Label']\n",
    "psd_df = pd.DataFrame(columns=columns)\n",
    "\n",
    "def get_avg_psds(freqs, psds):\n",
    "    FREQ_BANDS = {\"delta\": [1, 4.0],\n",
    "                  \"theta\": [4.0, 8.0],\n",
    "                  \"alpha\": [8.0, 12.0],\n",
    "                  \"beta\": [12.0, 30.0],\n",
    "                  \"gamma\": [30.0, 100.0]}\n",
    "\n",
    "    psds_bands = []\n",
    "    for fmin, fmax in FREQ_BANDS.values():\n",
    "        psds_slice = psds[(freqs >= fmin) & (freqs < fmax)]\n",
    "        if len(psds_slice) > 0:\n",
    "            psds_band = psds_slice.mean()\n",
    "        else:\n",
    "            psds_band = 1  # or any other value you prefer for empty slices\n",
    "        psds_bands.append(psds_band)\n",
    "\n",
    "    abs_psds = np.array(psds_bands)  # Absolute band values\n",
    "    return abs_psds\n",
    "\n",
    "# Process each subject and their trials\n",
    "psd_records = []\n",
    "for i in range(36):\n",
    "    subject_name = f'Subject{i:02d}'\n",
    "    label = subject_info[subject_info['Subject'] == subject_name]['Count quality'].values[0]\n",
    "    \n",
    "    for trial in range(1, 2):\n",
    "        edf_file_name = f'{subject_name}_{trial}.edf'\n",
    "        edf_file_path = os.path.join(edf_folder_path, edf_file_name)\n",
    "        \n",
    "        # Open the EDF file\n",
    "        data = pyedflib.EdfReader(edf_file_path)\n",
    "        signal_labels = data.getSignalLabels()\n",
    "        \n",
    "        # Read the signals data\n",
    "        for j in range(19):  # Only the first 19 channels\n",
    "            signal_data = data.readSignal(j)\n",
    "            \n",
    "            # Calculate the PSD using Welch's method\n",
    "            freqs, psds = welch(signal_data, fs=sampling_frequency)  # Adjust fs and nperseg as needed\n",
    "            \n",
    "            # Get average PSD values for each frequency band\n",
    "            avg_psds = get_avg_psds(freqs, psds)\n",
    "            \n",
    "            # Append the data to the list of records\n",
    "            psd_records.append({\n",
    "                'Subject': subject_name,\n",
    "                'Channel': signal_labels[j][4:],\n",
    "                'Trial': trial,\n",
    "                'Delta': avg_psds[0],\n",
    "                'Theta': avg_psds[1],\n",
    "                'Alpha': avg_psds[2],\n",
    "                'Beta': avg_psds[3],\n",
    "                'Gamma': avg_psds[4],\n",
    "                'Label': label\n",
    "            })\n",
    "        \n",
    "        # Close the EDF file\n",
    "        data.close()\n",
    "\n",
    "# Convert the list of records to a DataFrame\n",
    "psd_df_rest = pd.DataFrame(psd_records, columns=columns)\n",
    "\n",
    "# Save the DataFrame to a CSV file\n",
    "output_csv_path = os.path.join(edf_folder_path, 'psd_values_with_labels_rest.csv')\n",
    "psd_df_rest.to_csv(output_csv_path, index=False)\n",
    "\n",
    "print(f\"PSD values with labels saved to {output_csv_path}\")\n"
   ]
  },
  {
   "cell_type": "code",
   "execution_count": null,
   "id": "5ae41b78-a8f9-4d1c-a2ab-045327bcceb0",
   "metadata": {},
   "outputs": [],
   "source": []
  },
  {
   "cell_type": "markdown",
   "id": "4425c3f0-9022-40d5-b8d8-45e229376617",
   "metadata": {},
   "source": [
    "# PSD for task"
   ]
  },
  {
   "cell_type": "code",
   "execution_count": 290,
   "id": "93dff828-5c6f-403d-bd80-a44642ef72df",
   "metadata": {},
   "outputs": [
    {
     "name": "stdout",
     "output_type": "stream",
     "text": [
      "PSD values with labels saved to /Users/ritwikghosh/Downloads/IIT Roorkee Project/eeg-during-mental-arithmetic-tasks-1.0.0/psd_values_with_labels_task.csv\n"
     ]
    }
   ],
   "source": [
    "import pyedflib\n",
    "import numpy as np\n",
    "import pandas as pd\n",
    "import os\n",
    "from scipy.signal import welch\n",
    "\n",
    "# Path to the EDF files and the CSV file\n",
    "edf_folder_path = '/Users/ritwikghosh/Downloads/IIT Roorkee Project/eeg-during-mental-arithmetic-tasks-1.0.0/'\n",
    "csv_file_path = os.path.join(edf_folder_path, 'subject-info.csv')\n",
    "\n",
    "# Read the CSV file\n",
    "subject_info = pd.read_csv(csv_file_path)\n",
    "\n",
    "# Initialize the output DataFrame\n",
    "columns = ['Subject', 'Channel', 'Trial', 'Delta', 'Theta', 'Alpha', 'Beta', 'Gamma', 'Label']\n",
    "psd_df = pd.DataFrame(columns=columns)\n",
    "\n",
    "def get_avg_psds(freqs, psds):\n",
    "    FREQ_BANDS = {\"delta\": [1, 4.0],\n",
    "                  \"theta\": [4.0, 8.0],\n",
    "                  \"alpha\": [8.0, 12.0],\n",
    "                  \"beta\": [12.0, 30.0],\n",
    "                  \"gamma\": [30.0, 100.0]}\n",
    "\n",
    "    psds_bands = []\n",
    "    for fmin, fmax in FREQ_BANDS.values():\n",
    "        psds_slice = psds[(freqs >= fmin) & (freqs < fmax)]\n",
    "        if len(psds_slice) > 0:\n",
    "            psds_band = psds_slice.mean()\n",
    "        else:\n",
    "            psds_band = 1  # or any other value you prefer for empty slices\n",
    "        psds_bands.append(psds_band)\n",
    "\n",
    "    abs_psds = np.array(psds_bands)  # Absolute band values\n",
    "    return abs_psds\n",
    "\n",
    "# Process each subject and their trials\n",
    "psd_records = []\n",
    "for i in range(36):\n",
    "    subject_name = f'Subject{i:02d}'\n",
    "    label = subject_info[subject_info['Subject'] == subject_name]['Count quality'].values[0]\n",
    "    \n",
    "    for trial in range(2, 3):\n",
    "        edf_file_name = f'{subject_name}_{trial}.edf'\n",
    "        edf_file_path = os.path.join(edf_folder_path, edf_file_name)\n",
    "        \n",
    "        # Open the EDF file\n",
    "        data = pyedflib.EdfReader(edf_file_path)\n",
    "        signal_labels = data.getSignalLabels()\n",
    "        \n",
    "        # Read the signals data\n",
    "        for j in range(19):  # Only the first 19 channels\n",
    "            signal_data = data.readSignal(j)\n",
    "            \n",
    "            # Calculate the PSD using Welch's method\n",
    "            freqs, psds = welch(signal_data, fs=sampling_frequency)  # Adjust fs and nperseg as needed\n",
    "            \n",
    "            # Get average PSD values for each frequency band\n",
    "            avg_psds = get_avg_psds(freqs, psds)\n",
    "            \n",
    "            # Append the data to the list of records\n",
    "            psd_records.append({\n",
    "                'Subject': subject_name,\n",
    "                'Channel': signal_labels[j][4:],\n",
    "                'Trial': trial,\n",
    "                'Delta': avg_psds[0],\n",
    "                'Theta': avg_psds[1],\n",
    "                'Alpha': avg_psds[2],\n",
    "                'Beta': avg_psds[3],\n",
    "                'Gamma': avg_psds[4],\n",
    "                'Label': label\n",
    "            })\n",
    "        \n",
    "        # Close the EDF file\n",
    "        data.close()\n",
    "\n",
    "# Convert the list of records to a DataFrame\n",
    "psd_df_task = pd.DataFrame(psd_records, columns=columns)\n",
    "\n",
    "# Save the DataFrame to a CSV file\n",
    "output_csv_path = os.path.join(edf_folder_path, 'psd_values_with_labels_rest.csv')\n",
    "psd_df_task.to_csv(output_csv_path, index=False)\n",
    "\n",
    "print(f\"PSD values with labels saved to {output_csv_path}\")\n"
   ]
  },
  {
   "cell_type": "code",
   "execution_count": 291,
   "id": "dae5f096-f88f-43c5-98d3-7d53e0656dd1",
   "metadata": {},
   "outputs": [],
   "source": [
    "mean_psd_task = psd_df_task[['Delta', 'Theta', 'Alpha', 'Beta', 'Gamma']].mean()\n",
    "mean_psd_rest = psd_df_rest[['Delta', 'Theta', 'Alpha', 'Beta', 'Gamma']].mean()"
   ]
  },
  {
   "cell_type": "code",
   "execution_count": 292,
   "id": "851cbe30-11e2-4743-87e7-33ba84b372cd",
   "metadata": {},
   "outputs": [
    {
     "data": {
      "text/plain": [
       "Delta    9.318561\n",
       "Theta    4.403729\n",
       "Alpha    4.576662\n",
       "Beta     1.131876\n",
       "Gamma    0.032598\n",
       "dtype: float64"
      ]
     },
     "execution_count": 292,
     "metadata": {},
     "output_type": "execute_result"
    }
   ],
   "source": [
    "mean_psd_task"
   ]
  },
  {
   "cell_type": "code",
   "execution_count": 293,
   "id": "cd608786-a471-4193-afdd-c635798203d1",
   "metadata": {},
   "outputs": [
    {
     "data": {
      "text/plain": [
       "Delta    8.600573\n",
       "Theta    4.571598\n",
       "Alpha    7.143728\n",
       "Beta     1.448901\n",
       "Gamma    0.027531\n",
       "dtype: float64"
      ]
     },
     "execution_count": 293,
     "metadata": {},
     "output_type": "execute_result"
    }
   ],
   "source": [
    "mean_psd_rest"
   ]
  },
  {
   "cell_type": "code",
   "execution_count": 294,
   "id": "4247f94d-8b1e-4cd8-b9a5-ac253371ee51",
   "metadata": {},
   "outputs": [
    {
     "data": {
      "image/png": "[encoded data removed]",
      "text/plain": [
       "<Figure size 640x480 with 1 Axes>"
      ]
     },
     "metadata": {},
     "output_type": "display_data"
    }
   ],
   "source": [
    "import matplotlib.pyplot as plt\n",
    "\n",
    "# Assuming psd_df_task and psd_df_rest are already loaded DataFrames with the specified columns\n",
    "\n",
    "# Create a bar plot\n",
    "labels = ['Delta', 'Theta', 'Alpha', 'Beta', 'Gamma']\n",
    "x = np.arange(len(labels))  # the label locations\n",
    "width = 0.35  # the width of the bars\n",
    "\n",
    "fig, ax = plt.subplots()\n",
    "rects1 = ax.bar(x - width/2, mean_psd_task, width, label='Task', color='orange')\n",
    "rects2 = ax.bar(x + width/2, mean_psd_rest, width, label='Rest', color='blue')\n",
    "\n",
    "# Add some text for labels, title and custom x-axis tick labels, etc.\n",
    "ax.set_xlabel('Frequency Bands')\n",
    "ax.set_ylabel('Average PSD Values')\n",
    "ax.set_title('Average PSD Values by Frequency Band for Task and Rest for all relevant channels')\n",
    "ax.set_xticks(x)\n",
    "ax.set_xticklabels(labels)\n",
    "ax.legend()\n",
    "\n",
    "# Add bar labels\n",
    "def autolabel(rects):\n",
    "    \"\"\"Attach a text label above each bar in *rects*, displaying its height.\"\"\"\n",
    "    for rect in rects:\n",
    "        height = rect.get_height()\n",
    "        ax.annotate(f'{height:.2f}',\n",
    "                    xy=(rect.get_x() + rect.get_width() / 2, height),\n",
    "                    xytext=(0, 3),  # 3 points vertical offset\n",
    "                    textcoords=\"offset points\",\n",
    "                    ha='center', va='bottom')\n",
    "\n",
    "autolabel(rects1)\n",
    "autolabel(rects2)\n",
    "\n",
    "fig.tight_layout()\n",
    "\n",
    "plt.show()\n",
    "\n"
   ]
  },
  {
   "cell_type": "markdown",
   "id": "5e41db7f-b36d-40d5-8285-3429a6fc42a0",
   "metadata": {},
   "source": [
    "# Rest mode values are greater than task mode for most bands"
   ]
  },
  {
   "cell_type": "code",
   "execution_count": 241,
   "id": "997fa835-eff0-40b3-92ad-31bd8f04c28b",
   "metadata": {},
   "outputs": [
    {
     "data": {
      "text/plain": [
       "Index(['Subject', 'Channel', 'Trial', 'Delta', 'Theta', 'Alpha', 'Beta',\n",
       "       'Gamma', 'Label'],\n",
       "      dtype='object')"
      ]
     },
     "execution_count": 241,
     "metadata": {},
     "output_type": "execute_result"
    }
   ],
   "source": [
    "psd_df_rest.columns"
   ]
  },
  {
   "cell_type": "code",
   "execution_count": 242,
   "id": "6cb8115f-8a4a-4f08-b525-4a486422bcdf",
   "metadata": {},
   "outputs": [
    {
     "data": {
      "text/plain": [
       "array(['F3', 'F4', 'C3', 'C4', 'P3', 'P4', 'Cz', 'Pz'], dtype=object)"
      ]
     },
     "execution_count": 242,
     "metadata": {},
     "output_type": "execute_result"
    }
   ],
   "source": [
    "psd_df_rest['Channel'].unique()"
   ]
  },
  {
   "cell_type": "code",
   "execution_count": 244,
   "id": "6408db9d-33ee-478f-a6dd-ba8edb37297f",
   "metadata": {},
   "outputs": [],
   "source": [
    "psd_df_task=pd.read_csv('/Users/ritwikghosh/Downloads/IIT Roorkee Project/eeg-during-mental-arithmetic-tasks-1.0.0/psd_values_with_labels_task.csv')\n",
    "psd_df_rest=pd.read_csv('/Users/ritwikghosh/Downloads/IIT Roorkee Project/eeg-during-mental-arithmetic-tasks-1.0.0/psd_values_with_labels_rest.csv')\n",
    "\n"
   ]
  },
  {
   "cell_type": "markdown",
   "id": "2ca91dd4-0b28-409b-8a34-1612d6bafab0",
   "metadata": {},
   "source": [
    "# Classifying rest and task mode from PSD values"
   ]
  },
  {
   "cell_type": "code",
   "execution_count": 245,
   "id": "d7d3e1f1-4937-4d91-9c1b-5a333c3cd5bd",
   "metadata": {},
   "outputs": [],
   "source": [
    "psd_df_task['Label'] = 1\n",
    "psd_df_rest['Label'] = 0\n",
    "\n",
    "# List of unique channels\n",
    "channels = ['Fp1', 'Fp2', 'F3', 'F4', 'F7', 'F8', 'T3', 'T4', 'C3', 'C4', 'T5', 'T6', 'P3', 'P4', 'O1', 'O2', 'Fz', 'Cz', 'Pz']\n",
    "\n",
    "# Function to pivot the dataframe\n",
    "def pivot_dataframe(df):\n",
    "    df_pivot = df.pivot(index=['Subject', 'Trial', 'Label'], columns='Channel', values=['Delta', 'Theta', 'Alpha', 'Beta', 'Gamma'])\n",
    "    df_pivot.columns = [f\"{chan}_{freq}\" for freq, chan in df_pivot.columns]\n",
    "    df_pivot.reset_index(inplace=True)\n",
    "    return df_pivot\n",
    "\n",
    "# Pivot both dataframes\n",
    "psd_df_task_pivot = pivot_dataframe(psd_df_task)\n",
    "psd_df_rest_pivot = pivot_dataframe(psd_df_rest)\n",
    "\n",
    "# Concatenate the dataframes\n",
    "final_df = pd.concat([psd_df_task_pivot, psd_df_rest_pivot], ignore_index=True)"
   ]
  },
  {
   "cell_type": "code",
   "execution_count": 248,
   "id": "ba060f6a-e842-42c4-911a-3dbc597cd081",
   "metadata": {},
   "outputs": [],
   "source": [
    "final_df.drop(columns=['Subject', 'Trial'], axis=1, inplace =True)"
   ]
  },
  {
   "cell_type": "markdown",
   "id": "8504e919-bbac-464c-b18c-51f7925f1c7d",
   "metadata": {},
   "source": [
    "# Random Forest Model Used to classify"
   ]
  },
  {
   "cell_type": "code",
   "execution_count": 295,
   "id": "476d0b31-1da1-4ccf-857d-665789df6b5e",
   "metadata": {},
   "outputs": [
    {
     "name": "stdout",
     "output_type": "stream",
     "text": [
      "Cross-Validation Scores (5-fold): [0.66666667 0.73333333 0.85714286 0.85714286 0.78571429]\n",
      "Mean Cross-Validation Score: 0.78\n"
     ]
    }
   ],
   "source": [
    "from sklearn.model_selection import cross_val_score\n",
    "from sklearn.ensemble import RandomForestClassifier\n",
    "from sklearn.metrics import accuracy_score\n",
    "\n",
    "# Prepare the features and labels\n",
    "X = final_df.drop(columns=['Label'])\n",
    "y = final_df['Label']\n",
    "\n",
    "# Initialize the Random Forest Classifier with random state for reproducibility\n",
    "rf_model = RandomForestClassifier(random_state=0)\n",
    "# Perform 10-fold cross-validation for more robust evaluation\n",
    "cv_scores = cross_val_score(rf_model, X, y, cv=5, scoring='accuracy')\n",
    "print(\"Cross-Validation Scores (5-fold):\", cv_scores)\n",
    "\n",
    "# Calculate the mean cross-validation score\n",
    "mean_cv_score = cv_scores.mean()\n",
    "print(\"Mean Cross-Validation Score:\", mean_cv_score)\n"
   ]
  },
  {
   "cell_type": "markdown",
   "id": "5a2126a1-fa47-492d-a3b2-16a680a0f064",
   "metadata": {},
   "source": [
    "# Looks like Fp1 Channel plays a major role in arithmatic task.\n",
    "Even many literature says frontal lobe in crutial for logical thinking."
   ]
  },
  {
   "cell_type": "code",
   "execution_count": 302,
   "id": "c0a1542c-f24c-4370-95cb-3d9bdc9ec647",
   "metadata": {},
   "outputs": [
    {
     "name": "stderr",
     "output_type": "stream",
     "text": [
      "/var/folders/hv/qjk6fc2s1fs49rwrghx0sb8r0000gn/T/ipykernel_92677/2383305474.py:19: MatplotlibDeprecationWarning: The get_cmap function was deprecated in Matplotlib 3.7 and will be removed two minor releases later. Use ``matplotlib.colormaps[name]`` or ``matplotlib.colormaps.get_cmap(obj)`` instead.\n",
      "  cmap = plt.cm.get_cmap('tab10')  # Choose a colormap (e.g., 'tab10', 'viridis')\n"
     ]
    },
    {
     "data": {
      "image/png": "[encoded data removed]",
      "text/plain": [
       "<Figure size 640x480 with 1 Axes>"
      ]
     },
     "metadata": {},
     "output_type": "display_data"
    }
   ],
   "source": [
    "rf_model.fit(X, y)\n",
    "\n",
    "# Get feature importances and feature names\n",
    "feature_importances = rf_model.feature_importances_\n",
    "feature_names = X.columns\n",
    "\n",
    "# Define the number of top features to plot (adjust as needed)\n",
    "top_n_features = 5  # You can change this value\n",
    "\n",
    "# Sort features by importance in descending order\n",
    "sorted_idx = np.argsort(feature_importances)[::-1]\n",
    "\n",
    "# Select top n features and their importances\n",
    "top_features = feature_names[sorted_idx[:top_n_features]]\n",
    "top_importances = feature_importances[sorted_idx[:top_n_features]]\n",
    "\n",
    "# Create a color list for the bars (adjust as needed)\n",
    "num_bars = len(top_features)  # Get the number of bars to plot\n",
    "cmap = plt.cm.get_cmap('tab10')  # Choose a colormap (e.g., 'tab10', 'viridis')\n",
    "colors = cmap(np.arange(num_bars) % cmap.N)  # Generate unique colors\n",
    "\n",
    "# Create the bar chart of top feature importances\n",
    "plt.bar(top_features, top_importances, color=colors)\n",
    "plt.xlabel(\"Feature Name\")\n",
    "plt.ylabel(\"Importance Score\")\n",
    "plt.title(f\"Top {top_n_features} Feature Importances (Random Forest)\")\n",
    "plt.xticks(rotation=45)  # Rotate x-axis labels for readability\n",
    "plt.show()\n"
   ]
  },
  {
   "cell_type": "code",
   "execution_count": null,
   "id": "c90c3e7e-6237-41a7-a61c-038697dc3602",
   "metadata": {},
   "outputs": [],
   "source": []
  }
 ],
 "metadata": {
  "kernelspec": {
   "display_name": "Python 3 (ipykernel)",
   "language": "python",
   "name": "python3"
  },
  "language_info": {
   "codemirror_mode": {
    "name": "ipython",
    "version": 3
   },
   "file_extension": ".py",
   "mimetype": "text/x-python",
   "name": "python",
   "nbconvert_exporter": "python",
   "pygments_lexer": "ipython3",
   "version": "3.11.7"
  }
 },
 "nbformat": 4,
 "nbformat_minor": 5
}
