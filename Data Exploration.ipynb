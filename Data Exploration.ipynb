{
 "cells": [
  {
   "cell_type": "code",
   "execution_count": 2,
   "id": "d1634ad1-d854-488c-8d2a-a128c8138c10",
   "metadata": {},
   "outputs": [
    {
     "name": "stdout",
     "output_type": "stream",
     "text": [
      "\u001b[33mDEPRECATION: Loading egg at /opt/anaconda3/lib/python3.11/site-packages/pyeeg-0.4.4-py3.11.egg is deprecated. pip 24.3 will enforce this behaviour change. A possible replacement is to use pip for package installation.. Discussion can be found at https://github.com/pypa/pip/issues/12330\u001b[0m\u001b[33m\n",
      "\u001b[0mCollecting pyedflib\n",
      "  Downloading pyEDFlib-0.1.37-cp311-cp311-macosx_11_0_arm64.whl.metadata (6.3 kB)\n",
      "Requirement already satisfied: numpy>=1.9.1 in /opt/anaconda3/lib/python3.11/site-packages (from pyedflib) (1.26.4)\n",
      "Downloading pyEDFlib-0.1.37-cp311-cp311-macosx_11_0_arm64.whl (2.2 MB)\n",
      "\u001b[2K   \u001b[90m━━━━━━━━━━━━━━━━━━━━━━━━━━━━━━━━━━━━━━━━\u001b[0m \u001b[32m2.2/2.2 MB\u001b[0m \u001b[31m3.8 MB/s\u001b[0m eta \u001b[36m0:00:00\u001b[0ma \u001b[36m0:00:01\u001b[0m\n",
      "\u001b[?25hInstalling collected packages: pyedflib\n",
      "Successfully installed pyedflib-0.1.37\n",
      "\n",
      "\u001b[1m[\u001b[0m\u001b[34;49mnotice\u001b[0m\u001b[1;39;49m]\u001b[0m\u001b[39;49m A new release of pip is available: \u001b[0m\u001b[31;49m24.0\u001b[0m\u001b[39;49m -> \u001b[0m\u001b[32;49m24.1.1\u001b[0m\n",
      "\u001b[1m[\u001b[0m\u001b[34;49mnotice\u001b[0m\u001b[1;39;49m]\u001b[0m\u001b[39;49m To update, run: \u001b[0m\u001b[32;49mpip install --upgrade pip\u001b[0m\n",
      "Note: you may need to restart the kernel to use updated packages.\n"
     ]
    }
   ],
   "source": [
    "pip install pyedflib"
   ]
  },
  {
   "cell_type": "code",
   "execution_count": 3,
   "id": "0a7260c8-af63-4744-86c8-57d784bd7bdd",
   "metadata": {},
   "outputs": [],
   "source": [
    "import pyedflib"
   ]
  },
  {
   "cell_type": "code",
   "execution_count": 44,
   "id": "8bb11884-9bfe-43f1-94a6-978965fdab75",
   "metadata": {
    "scrolled": true
   },
   "outputs": [],
   "source": [
    "data = pyedflib.EdfReader('/Users/ritwikghosh/Downloads/IIT Roorkee Project/eeg-during-mental-arithmetic-tasks-1.0.0/Subject00_1.edf')\n"
   ]
  },
  {
   "cell_type": "code",
   "execution_count": 45,
   "id": "a25f7c66-6f0a-4fef-b8d0-92c109b5a316",
   "metadata": {},
   "outputs": [
    {
     "data": {
      "text/plain": [
       "21"
      ]
     },
     "execution_count": 45,
     "metadata": {},
     "output_type": "execute_result"
    }
   ],
   "source": [
    "data.signals_in_file\n"
   ]
  },
  {
   "cell_type": "code",
   "execution_count": 48,
   "id": "549906cc-004e-4174-b5ff-ed368ea21e25",
   "metadata": {},
   "outputs": [
    {
     "name": "stdout",
     "output_type": "stream",
     "text": [
      "Fp1\n",
      "Fp2\n",
      "F3\n",
      "F4\n",
      "F7\n",
      "F8\n",
      "T3\n",
      "T4\n",
      "C3\n",
      "C4\n",
      "T5\n",
      "T6\n",
      "P3\n",
      "P4\n",
      "O1\n",
      "O2\n",
      "Fz\n",
      "Cz\n",
      "Pz\n",
      "A2-A1\n",
      "ECG\n"
     ]
    }
   ],
   "source": [
    "for i in data.getSignalLabels():\n",
    "    print(i[4:])"
   ]
  },
  {
   "cell_type": "code",
   "execution_count": 11,
   "id": "0dded92a-35f7-4706-a904-4997d655a70d",
   "metadata": {},
   "outputs": [],
   "source": [
    "signal_data = [data.readSignal(i) for i in range(data.signals_in_file)]"
   ]
  },
  {
   "cell_type": "code",
   "execution_count": 14,
   "id": "a6caa9d3-382c-4558-b5b6-295bf6c81c79",
   "metadata": {},
   "outputs": [
    {
     "data": {
      "text/plain": [
       "(91000,)"
      ]
     },
     "execution_count": 14,
     "metadata": {},
     "output_type": "execute_result"
    }
   ],
   "source": [
    "signal_data[0].shape"
   ]
  },
  {
   "cell_type": "code",
   "execution_count": 15,
   "id": "4255ab15-ed7b-4d61-b755-706787b26edd",
   "metadata": {},
   "outputs": [
    {
     "data": {
      "text/plain": [
       "array([91000, 91000, 91000, 91000, 91000, 91000, 91000, 91000, 91000,\n",
       "       91000, 91000, 91000, 91000, 91000, 91000, 91000, 91000, 91000,\n",
       "       91000, 91000, 91000])"
      ]
     },
     "execution_count": 15,
     "metadata": {},
     "output_type": "execute_result"
    }
   ],
   "source": [
    "data.getNSamples()"
   ]
  },
  {
   "cell_type": "code",
   "execution_count": 19,
   "id": "6c4ecf20-1180-4f2d-8df1-b11bf047df6b",
   "metadata": {},
   "outputs": [],
   "source": [
    "import numpy as np\n",
    "signal_data = np.zeros((data.signals_in_file, data.getNSamples()[0]))\n",
    "for i in range(data.signals_in_file):\n",
    "    signal_data[i, :] = data.readSignal(i)"
   ]
  },
  {
   "cell_type": "code",
   "execution_count": 20,
   "id": "13e58a61-9e02-474c-bd97-dd63c551069e",
   "metadata": {},
   "outputs": [
    {
     "data": {
      "text/plain": [
       "(21, 91000)"
      ]
     },
     "execution_count": 20,
     "metadata": {},
     "output_type": "execute_result"
    }
   ],
   "source": [
    "signal_data.shape"
   ]
  },
  {
   "cell_type": "code",
   "execution_count": 21,
   "id": "e5002fb6-b65c-40a6-b852-f15dbee13925",
   "metadata": {},
   "outputs": [],
   "source": [
    "signal_data= signal_data[:20,:]"
   ]
  },
  {
   "cell_type": "code",
   "execution_count": 38,
   "id": "643f4bf9-8e7b-4516-a464-574862d27ebc",
   "metadata": {},
   "outputs": [],
   "source": [
    "data2 = pyedflib.EdfReader('/Users/ritwikghosh/Downloads/IIT Roorkee Project/eeg-during-mental-arithmetic-tasks-1.0.0/Subject00_2.edf')"
   ]
  },
  {
   "cell_type": "code",
   "execution_count": 39,
   "id": "cd82b641-19d6-47c0-b51b-a0788d57c7fc",
   "metadata": {},
   "outputs": [
    {
     "data": {
      "text/plain": [
       "(31000,)"
      ]
     },
     "execution_count": 39,
     "metadata": {},
     "output_type": "execute_result"
    }
   ],
   "source": [
    "signal_data = [data2.readSignal(i) for i in range(data2.signals_in_file)]\n",
    "signal_data[0].shape"
   ]
  },
  {
   "cell_type": "code",
   "execution_count": 40,
   "id": "43d3af4b-f8e0-4d9e-b8dd-c79d89873785",
   "metadata": {},
   "outputs": [],
   "source": [
    "label_data= pd.read_csv('/Users/ritwikghosh/Downloads/IIT Roorkee Project/eeg-during-mental-arithmetic-tasks-1.0.0/subject-info.csv')"
   ]
  },
  {
   "cell_type": "code",
   "execution_count": 41,
   "id": "a9d8fc6a-f72d-4b3b-ad16-1cec517f4d98",
   "metadata": {},
   "outputs": [
    {
     "data": {
      "text/plain": [
       "Index(['Subject', 'Age', 'Gender', 'Recording year', 'Number of subtractions',\n",
       "       'Count quality'],\n",
       "      dtype='object')"
      ]
     },
     "execution_count": 41,
     "metadata": {},
     "output_type": "execute_result"
    }
   ],
   "source": [
    "label_data.columns"
   ]
  },
  {
   "cell_type": "code",
   "execution_count": 42,
   "id": "815fea40-f9dc-4785-940e-fc20e227b239",
   "metadata": {},
   "outputs": [
    {
     "data": {
      "text/html": [
       "<div>\n",
       "<style scoped>\n",
       "    .dataframe tbody tr th:only-of-type {\n",
       "        vertical-align: middle;\n",
       "    }\n",
       "\n",
       "    .dataframe tbody tr th {\n",
       "        vertical-align: top;\n",
       "    }\n",
       "\n",
       "    .dataframe thead th {\n",
       "        text-align: right;\n",
       "    }\n",
       "</style>\n",
       "<table border=\"1\" class=\"dataframe\">\n",
       "  <thead>\n",
       "    <tr style=\"text-align: right;\">\n",
       "      <th></th>\n",
       "      <th>Subject</th>\n",
       "      <th>Age</th>\n",
       "      <th>Gender</th>\n",
       "      <th>Recording year</th>\n",
       "      <th>Number of subtractions</th>\n",
       "      <th>Count quality</th>\n",
       "    </tr>\n",
       "  </thead>\n",
       "  <tbody>\n",
       "    <tr>\n",
       "      <th>0</th>\n",
       "      <td>Subject00</td>\n",
       "      <td>21</td>\n",
       "      <td>F</td>\n",
       "      <td>2011</td>\n",
       "      <td>9.70</td>\n",
       "      <td>0</td>\n",
       "    </tr>\n",
       "    <tr>\n",
       "      <th>1</th>\n",
       "      <td>Subject01</td>\n",
       "      <td>18</td>\n",
       "      <td>F</td>\n",
       "      <td>2011</td>\n",
       "      <td>29.35</td>\n",
       "      <td>1</td>\n",
       "    </tr>\n",
       "    <tr>\n",
       "      <th>2</th>\n",
       "      <td>Subject02</td>\n",
       "      <td>19</td>\n",
       "      <td>F</td>\n",
       "      <td>2012</td>\n",
       "      <td>12.88</td>\n",
       "      <td>1</td>\n",
       "    </tr>\n",
       "    <tr>\n",
       "      <th>3</th>\n",
       "      <td>Subject03</td>\n",
       "      <td>17</td>\n",
       "      <td>F</td>\n",
       "      <td>2010</td>\n",
       "      <td>31.00</td>\n",
       "      <td>1</td>\n",
       "    </tr>\n",
       "    <tr>\n",
       "      <th>4</th>\n",
       "      <td>Subject04</td>\n",
       "      <td>17</td>\n",
       "      <td>F</td>\n",
       "      <td>2010</td>\n",
       "      <td>8.60</td>\n",
       "      <td>0</td>\n",
       "    </tr>\n",
       "  </tbody>\n",
       "</table>\n",
       "</div>"
      ],
      "text/plain": [
       "     Subject  Age Gender  Recording year  Number of subtractions  \\\n",
       "0  Subject00   21      F            2011                    9.70   \n",
       "1  Subject01   18      F            2011                   29.35   \n",
       "2  Subject02   19      F            2012                   12.88   \n",
       "3  Subject03   17      F            2010                   31.00   \n",
       "4  Subject04   17      F            2010                    8.60   \n",
       "\n",
       "   Count quality  \n",
       "0              0  \n",
       "1              1  \n",
       "2              1  \n",
       "3              1  \n",
       "4              0  "
      ]
     },
     "execution_count": 42,
     "metadata": {},
     "output_type": "execute_result"
    }
   ],
   "source": [
    "label_data.head()"
   ]
  },
  {
   "cell_type": "code",
   "execution_count": null,
   "id": "af4b0e19-5eab-4f08-968a-1acb6c93d10b",
   "metadata": {},
   "outputs": [],
   "source": []
  }
 ],
 "metadata": {
  "kernelspec": {
   "display_name": "Python 3 (ipykernel)",
   "language": "python",
   "name": "python3"
  },
  "language_info": {
   "codemirror_mode": {
    "name": "ipython",
    "version": 3
   },
   "file_extension": ".py",
   "mimetype": "text/x-python",
   "name": "python",
   "nbconvert_exporter": "python",
   "pygments_lexer": "ipython3",
   "version": "3.11.7"
  }
 },
 "nbformat": 4,
 "nbformat_minor": 5
}
